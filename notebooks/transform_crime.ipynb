{
 "cells": [
  {
   "cell_type": "code",
   "execution_count": null,
   "id": "3a400d90",
   "metadata": {},
   "outputs": [],
   "source": [
    "from yourapp.models import Crime, CrimeType\n",
    "from django.utils.dateparse import parse_datetime\n",
    "import pandas as pd\n",
    "\n",
    "df = pd.read_sql(\"SELECT * FROM crimes_raw\", con=engine)\n",
    "\n",
    "for _, row in df.iterrows():\n",
    "    crime = Crime()\n",
    "    crime.description = row[\"description\"]\n",
    "    crime.date = parse_datetime(row[\"date\"])\n",
    "\n",
    "    crime.type = row[\"type\"] if row[\"type\"] in CrimeType.values else CrimeType.OTHER\n",
    "\n",
    "    try:\n",
    "        crime.setup_location(row[\"latitude\"], row[\"longitude\"])\n",
    "        crime.save()\n",
    "    except Exception as e:\n",
    "        print(f\"Skipping row due to error: {e}\")"
   ]
  }
 ],
 "metadata": {
  "language_info": {
   "name": "python"
  }
 },
 "nbformat": 4,
 "nbformat_minor": 5
}
