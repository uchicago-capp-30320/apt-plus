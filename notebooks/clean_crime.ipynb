{
 "cells": [
  {
   "cell_type": "code",
   "execution_count": 1,
   "id": "61d2a169",
   "metadata": {},
   "outputs": [],
   "source": [
    "import pandas as pd\n"
   ]
  },
  {
   "cell_type": "code",
   "execution_count": 2,
   "id": "5f69f2a5",
   "metadata": {},
   "outputs": [],
   "source": [
    "df = pd.read_csv(\"../data/Crimes_-_2001_to_Present_20250501.csv\")"
   ]
  },
  {
   "cell_type": "markdown",
   "id": "8541f018",
   "metadata": {},
   "source": [
    "### Confine to HP"
   ]
  },
  {
   "cell_type": "code",
   "execution_count": 3,
   "id": "be0c1acf",
   "metadata": {},
   "outputs": [],
   "source": [
    "HP_NORTH_BOUND = 41.809647\n",
    "HP_SOUTH_BOUND = 41.780482\n",
    "HP_WEST_BOUND = -87.615877\n",
    "HP_EAST_BOUND = -87.579056\n",
    "\n",
    "df_clean = df.dropna(subset=['Latitude', 'Longitude'])\n",
    "\n",
    "hp_df = df_clean[\n",
    "    (df_clean['Latitude'] >= HP_SOUTH_BOUND) & (df_clean['Latitude'] <= HP_NORTH_BOUND) &\n",
    "    (df_clean['Longitude'] >= HP_WEST_BOUND) & (df_clean['Longitude'] <= HP_EAST_BOUND)\n",
    "]"
   ]
  },
  {
   "cell_type": "code",
   "execution_count": 10,
   "id": "0d5b0ea8",
   "metadata": {},
   "outputs": [
    {
     "data": {
      "text/plain": [
       "(161153, 22)"
      ]
     },
     "execution_count": 10,
     "metadata": {},
     "output_type": "execute_result"
    }
   ],
   "source": [
    "hp_df.shape"
   ]
  },
  {
   "cell_type": "markdown",
   "id": "c2ac283e",
   "metadata": {},
   "source": [
    "### Confine to recent 10 years"
   ]
  },
  {
   "cell_type": "code",
   "execution_count": 13,
   "id": "93bfb751",
   "metadata": {},
   "outputs": [],
   "source": [
    "hp_df = hp_df.copy()\n",
    "hp_df.loc[:, 'Date'] = pd.to_datetime(\n",
    "    hp_df['Date'],\n",
    "    format=\"%m/%d/%Y %I:%M:%S %p\",\n",
    "    errors='coerce'\n",
    ")\n",
    "\n",
    "hp_10yr_df = hp_df[hp_df['Date'].dt.year >= 2015]"
   ]
  },
  {
   "cell_type": "code",
   "execution_count": 14,
   "id": "3b92c464",
   "metadata": {},
   "outputs": [
    {
     "data": {
      "text/plain": [
       "(50615, 22)"
      ]
     },
     "execution_count": 14,
     "metadata": {},
     "output_type": "execute_result"
    }
   ],
   "source": [
    "hp_10yr_df.shape"
   ]
  },
  {
   "cell_type": "markdown",
   "id": "e0fb0d50",
   "metadata": {},
   "source": [
    "### Save to csv"
   ]
  },
  {
   "cell_type": "code",
   "execution_count": 15,
   "id": "c0241400",
   "metadata": {},
   "outputs": [],
   "source": [
    "hp_10yr_df.to_csv(\"../data/hyde_park_crimes_2015_2025.csv\", index=False)"
   ]
  }
 ],
 "metadata": {
  "kernelspec": {
   "display_name": ".venv",
   "language": "python",
   "name": "python3"
  },
  "language_info": {
   "codemirror_mode": {
    "name": "ipython",
    "version": 3
   },
   "file_extension": ".py",
   "mimetype": "text/x-python",
   "name": "python",
   "nbconvert_exporter": "python",
   "pygments_lexer": "ipython3",
   "version": "3.10.17"
  }
 },
 "nbformat": 4,
 "nbformat_minor": 5
}
