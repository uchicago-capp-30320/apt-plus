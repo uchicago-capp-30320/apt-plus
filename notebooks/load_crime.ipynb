{
 "cells": [
  {
   "cell_type": "code",
   "execution_count": 1,
   "id": "07622cd0",
   "metadata": {},
   "outputs": [],
   "source": [
    "import os\n",
    "from dotenv import load_dotenv\n",
    "import pandas as pd\n",
    "from sqlalchemy import create_engine"
   ]
  },
  {
   "cell_type": "markdown",
   "id": "a4d38074",
   "metadata": {},
   "source": [
    "## Create Table and Ingest Data"
   ]
  },
  {
   "cell_type": "code",
   "execution_count": 2,
   "id": "6cdbd7dc",
   "metadata": {},
   "outputs": [
    {
     "data": {
      "text/plain": [
       "615"
      ]
     },
     "execution_count": 2,
     "metadata": {},
     "output_type": "execute_result"
    }
   ],
   "source": [
    "# load .env\n",
    "load_dotenv()\n",
    "db_url = os.getenv(\"DATABASE_URL\")\n",
    "\n",
    "# Create SQLAlchemy engine\n",
    "engine = create_engine(db_url)\n",
    "\n",
    "# Read CSV\n",
    "df = pd.read_csv(\"../data/hyde_park_crimes_2015_2025.csv\")\n",
    "\n",
    "# Create table and ingest the data to thetable\n",
    "df.to_sql(\"apt_app_crime_raw\", engine, if_exists='replace', index=False)"
   ]
  },
  {
   "cell_type": "markdown",
   "id": "2168e970",
   "metadata": {},
   "source": [
    "## Check DB"
   ]
  },
  {
   "cell_type": "code",
   "execution_count": null,
   "id": "1b604d27",
   "metadata": {},
   "outputs": [
    {
     "name": "stdout",
     "output_type": "stream",
     "text": [
      "CSV counts: 50615\n",
      "DB counts: 50615\n",
      "         ID Case Number                 Date                   Block  IUCR  \\\n",
      "0  13202922    JG414619  2023-09-06 18:00:00         014XX E 49TH ST  1320   \n",
      "1  13202497    JG414523  2023-09-06 21:30:00   049XX S LAKE PARK AVE  0820   \n",
      "2  13202053    JG413925  2023-09-06 08:05:00     061XX S LANGLEY AVE  0810   \n",
      "3  13202493    JG414512  2023-09-06 17:30:00  050XX S BLACKSTONE AVE  0810   \n",
      "4  13202933    JG414643  2023-09-06 18:00:00   048XX S LAKE PARK AVE  1320   \n",
      "\n",
      "      Primary Type     Description Location Description  Arrest  Domestic  \\\n",
      "0  CRIMINAL DAMAGE      TO VEHICLE               STREET   False     False   \n",
      "1            THEFT  $500 AND UNDER               STREET   False     False   \n",
      "2            THEFT       OVER $500               STREET   False     False   \n",
      "3            THEFT       OVER $500               STREET   False     False   \n",
      "4  CRIMINAL DAMAGE      TO VEHICLE               STREET   False     False   \n",
      "\n",
      "   ...  Ward  Community Area  FBI Code  X Coordinate Y Coordinate  Year  \\\n",
      "0  ...   4.0            39.0        14     1186638.0    1872793.0  2023   \n",
      "1  ...   4.0            39.0        06     1187186.0    1872524.0  2023   \n",
      "2  ...  20.0            42.0        06     1181952.0    1864383.0  2023   \n",
      "3  ...   4.0            39.0        06     1186773.0    1871970.0  2023   \n",
      "4  ...   4.0            39.0        14     1186842.0    1873319.0  2023   \n",
      "\n",
      "               Updated On   Latitude  Longitude                       Location  \n",
      "0  09/14/2023 03:43:09 PM  41.806061 -87.590999  (41.806060798, -87.590999348)  \n",
      "1  09/14/2023 03:43:09 PM  41.805310 -87.588998   (41.805309638, -87.58899806)  \n",
      "2  09/14/2023 03:43:09 PM  41.783093 -87.608446   (41.783092808, -87.60844576)  \n",
      "3  09/14/2023 03:43:09 PM  41.803799 -87.590530  (41.803799227, -87.590530312)  \n",
      "4  09/14/2023 03:43:09 PM  41.807499 -87.590234  (41.807499342, -87.590234482)  \n",
      "\n",
      "[5 rows x 22 columns]\n"
     ]
    }
   ],
   "source": [
    "# CSV\n",
    "df = pd.read_csv(\"../data/hyde_park_crimes_2015_2025.csv\")\n",
    "print(\"CSV counts:\", len(df))\n",
    "\n",
    "# DB\n",
    "db_count = pd.read_sql(\"SELECT COUNT(*) AS count FROM apt_app_crime_raw\", engine).iloc[0, 0]\n",
    "print(\"DB counts:\", db_count)\n",
    "\n",
    "# head\n",
    "df_preview = pd.read_sql(\"SELECT * FROM apt_app_crime_raw LIMIT 5\", engine)\n",
    "print(df_preview)"
   ]
  }
 ],
 "metadata": {
  "kernelspec": {
   "display_name": ".venv",
   "language": "python",
   "name": "python3"
  },
  "language_info": {
   "codemirror_mode": {
    "name": "ipython",
    "version": 3
   },
   "file_extension": ".py",
   "mimetype": "text/x-python",
   "name": "python",
   "nbconvert_exporter": "python",
   "pygments_lexer": "ipython3",
   "version": "3.10.17"
  }
 },
 "nbformat": 4,
 "nbformat_minor": 5
}
