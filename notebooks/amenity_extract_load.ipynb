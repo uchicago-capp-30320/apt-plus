{
 "cells": [
  {
   "cell_type": "markdown",
   "id": "e2733dab",
   "metadata": {},
   "source": [
    "# Extract Data\n",
    "Extracting Amenities Data via Google Map API. You need include `GOOGLE_MAPS_API_KEY` in `.env`."
   ]
  },
  {
   "cell_type": "code",
   "execution_count": null,
   "id": "770507bf",
   "metadata": {},
   "outputs": [],
   "source": [
    "import os\n",
    "import requests\n",
    "import pandas as pd\n",
    "import time\n",
    "from dotenv import load_dotenv"
   ]
  },
  {
   "cell_type": "code",
   "execution_count": null,
   "id": "4d7442ba",
   "metadata": {},
   "outputs": [],
   "source": [
    "# Load .env\n",
    "load_dotenv()\n",
    "API_KEY = os.getenv('GOOGLE_MAPS_API_KEY')\n",
    "\n",
    "location = '41.7943,-87.5907'  # Center of Hyde Park\n",
    "radius = 3000\n",
    "place_types = [\n",
    "    'grocery_or_supermarket', 'cafe', 'library', 'book_store', 'university',\n",
    "    'hospital', 'pharmacy', 'doctor', 'dentist', 'park', 'gym', 'bank', 'atm',\n",
    "    'post_office', 'restaurant', 'meal_takeaway', 'meal_delivery',\n",
    "    'hair_care', 'beauty_salon', 'convenience_store', 'drugstore'\n",
    "]\n",
    "\n",
    "all_places = []\n",
    "\n",
    "def fetch_places(place_type):\n",
    "    url = 'https://maps.googleapis.com/maps/api/place/nearbysearch/json'\n",
    "    params = {\n",
    "        'location': location,\n",
    "        'radius': radius,\n",
    "        'type': place_type,\n",
    "        'key': API_KEY\n",
    "    }\n",
    "    results = []\n",
    "\n",
    "    while True:\n",
    "        res = requests.get(url, params=params).json()\n",
    "        results.extend(res.get('results', []))\n",
    "\n",
    "        next_token = res.get('next_page_token')\n",
    "        if not next_token:\n",
    "            break\n",
    "        time.sleep(2)\n",
    "        params = {'pagetoken': next_token, 'key': API_KEY}\n",
    "\n",
    "    return results\n",
    "\n",
    "for place_type in place_types:\n",
    "    print(f\"Fetching: {place_type}\")\n",
    "    places = fetch_places(place_type)\n",
    "    for p in places:\n",
    "        all_places.append({\n",
    "            'type': place_type,\n",
    "            'name': p.get('name'),\n",
    "            'address': p.get('vicinity'),\n",
    "            'lat': p['geometry']['location']['lat'],\n",
    "            'lng': p['geometry']['location']['lng'],\n",
    "            'rating': p.get('rating'),\n",
    "            'user_ratings_total': p.get('user_ratings_total')\n",
    "        })\n",
    "    time.sleep(1)\n",
    "\n",
    "df = pd.DataFrame(all_places)\n",
    "df.to_csv('../data/hyde_park_amenities.csv', index=False)\n",
    "print(\"Saved as hyde_park_amenities.csv\")"
   ]
  },
  {
   "cell_type": "markdown",
   "id": "d1c2a759",
   "metadata": {},
   "source": [
    "# Load Data\n",
    "Creating table and ingest data to db."
   ]
  },
  {
   "cell_type": "code",
   "execution_count": 2,
   "id": "946a2ab5",
   "metadata": {},
   "outputs": [],
   "source": [
    "import os\n",
    "from dotenv import load_dotenv\n",
    "import pandas as pd\n",
    "from sqlalchemy import create_engine\n"
   ]
  },
  {
   "cell_type": "code",
   "execution_count": 3,
   "id": "ab6e0ecc",
   "metadata": {},
   "outputs": [
    {
     "data": {
      "text/plain": [
       "752"
      ]
     },
     "execution_count": 3,
     "metadata": {},
     "output_type": "execute_result"
    }
   ],
   "source": [
    "# load .env\n",
    "load_dotenv()\n",
    "db_url = os.getenv(\"DATABASE_URL\")\n",
    "\n",
    "# Create SQLAlchemy engine\n",
    "engine = create_engine(db_url)\n",
    "\n",
    "# Read CSV\n",
    "df = pd.read_csv(\"../data/hyde_park_amenities.csv\")\n",
    "\n",
    "# Create table and ingest the data to thetable\n",
    "df.to_sql(\"apt_app_amenity_raw\", engine, if_exists='replace', index=False)\n"
   ]
  },
  {
   "cell_type": "markdown",
   "id": "f7c20e81",
   "metadata": {},
   "source": [
    "### Check DB"
   ]
  },
  {
   "cell_type": "code",
   "execution_count": 4,
   "id": "69da56e1",
   "metadata": {},
   "outputs": [
    {
     "name": "stdout",
     "output_type": "stream",
     "text": [
      "CSV counts: 752\n",
      "DB counts: 752\n",
      "                     type                      name  \\\n",
      "0  grocery_or_supermarket  Hyde Park Produce Market   \n",
      "1  grocery_or_supermarket                      ALDI   \n",
      "2  grocery_or_supermarket                        bp   \n",
      "3  grocery_or_supermarket        Whole Foods Market   \n",
      "4  grocery_or_supermarket   One Stop Food & Liquors   \n",
      "\n",
      "                                    address        lat        lng  rating  \\\n",
      "0            1226 East 53rd Street, Chicago  41.800011 -87.595481     4.5   \n",
      "1  6621 South Cottage Grove Avenue, Chicago  41.774518 -87.605391     4.2   \n",
      "2     6701 South Jeffery Boulevard, Chicago  41.773106 -87.576174     3.3   \n",
      "3      5118 South Lake Park Avenue, Chicago  41.801803 -87.588083     4.2   \n",
      "4      4301 South Lake Park Avenue, Chicago  41.816212 -87.598257     4.1   \n",
      "\n",
      "   user_ratings_total  \n",
      "0              1084.0  \n",
      "1              1538.0  \n",
      "2                17.0  \n",
      "3              1835.0  \n",
      "4              1493.0  \n"
     ]
    }
   ],
   "source": [
    "# CSV\n",
    "df = pd.read_csv(\"../data/hyde_park_amenities.csv\")\n",
    "print(\"CSV counts:\", len(df))\n",
    "\n",
    "# DB\n",
    "db_count = pd.read_sql(\"SELECT COUNT(*) AS count FROM apt_app_amenity_raw\", engine).iloc[0, 0]\n",
    "print(\"DB counts:\", db_count)\n",
    "\n",
    "# head\n",
    "df_preview = pd.read_sql(\"SELECT * FROM apt_app_amenity_raw LIMIT 5\", engine)\n",
    "print(df_preview)\n"
   ]
  },
  {
   "cell_type": "markdown",
   "id": "ca7b8603",
   "metadata": {},
   "source": [
    "# Transform Data\n",
    "To transform raw data into django data, you need to run `scripts/amenity_transform.py`."
   ]
  }
 ],
 "metadata": {
  "kernelspec": {
   "display_name": ".venv",
   "language": "python",
   "name": "python3"
  },
  "language_info": {
   "codemirror_mode": {
    "name": "ipython",
    "version": 3
   },
   "file_extension": ".py",
   "mimetype": "text/x-python",
   "name": "python",
   "nbconvert_exporter": "python",
   "pygments_lexer": "ipython3",
   "version": "3.10.17"
  }
 },
 "nbformat": 4,
 "nbformat_minor": 5
}
