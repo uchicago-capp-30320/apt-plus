{
 "cells": [
  {
   "cell_type": "code",
   "execution_count": null,
   "id": "bf25592d",
   "metadata": {},
   "outputs": [],
   "source": [
    "import pandas as pd"
   ]
  },
  {
   "cell_type": "code",
   "execution_count": 2,
   "id": "f42ac1d7",
   "metadata": {},
   "outputs": [],
   "source": [
    "df = pd.read_csv(\"../data/Crimes_-_2001_to_Present_20250501.csv\")\n"
   ]
  },
  {
   "cell_type": "markdown",
   "id": "e2a96d54",
   "metadata": {},
   "source": [
    "## Basic Info"
   ]
  },
  {
   "cell_type": "code",
   "execution_count": 8,
   "id": "fc6a477e",
   "metadata": {},
   "outputs": [
    {
     "name": "stdout",
     "output_type": "stream",
     "text": [
      "=== shape ===\n",
      "(8304227, 22)\n",
      "\n",
      "=== columns ===\n",
      "['ID', 'Case Number', 'Date', 'Block', 'IUCR', 'Primary Type', 'Description', 'Location Description', 'Arrest', 'Domestic', 'Beat', 'District', 'Ward', 'Community Area', 'FBI Code', 'X Coordinate', 'Y Coordinate', 'Year', 'Updated On', 'Latitude', 'Longitude', 'Location']\n",
      "\n",
      "=== info ===\n",
      "<class 'pandas.core.frame.DataFrame'>\n",
      "RangeIndex: 8304227 entries, 0 to 8304226\n",
      "Data columns (total 22 columns):\n",
      " #   Column                Dtype  \n",
      "---  ------                -----  \n",
      " 0   ID                    int64  \n",
      " 1   Case Number           object \n",
      " 2   Date                  object \n",
      " 3   Block                 object \n",
      " 4   IUCR                  object \n",
      " 5   Primary Type          object \n",
      " 6   Description           object \n",
      " 7   Location Description  object \n",
      " 8   Arrest                bool   \n",
      " 9   Domestic              bool   \n",
      " 10  Beat                  int64  \n",
      " 11  District              float64\n",
      " 12  Ward                  float64\n",
      " 13  Community Area        float64\n",
      " 14  FBI Code              object \n",
      " 15  X Coordinate          float64\n",
      " 16  Y Coordinate          float64\n",
      " 17  Year                  int64  \n",
      " 18  Updated On            object \n",
      " 19  Latitude              float64\n",
      " 20  Longitude             float64\n",
      " 21  Location              object \n",
      "dtypes: bool(2), float64(7), int64(3), object(10)\n",
      "memory usage: 1.3+ GB\n",
      "\n",
      "=== head ===\n",
      "         ID Case Number                    Date                    Block  \\\n",
      "0  13311263    JG503434  07/29/2022 03:39:00 AM          023XX S TROY ST   \n",
      "1  13053066    JG103252  01/03/2023 04:44:00 PM  039XX W WASHINGTON BLVD   \n",
      "2  11227634    JB147599  08/26/2017 10:00:00 AM      001XX W RANDOLPH ST   \n",
      "3  13203321    JG415333  09/06/2023 05:00:00 PM         002XX N Wells st   \n",
      "4  13204489    JG416325  09/06/2023 11:00:00 AM           0000X E 8TH ST   \n",
      "\n",
      "   IUCR                Primary Type                    Description  \\\n",
      "0  1582  OFFENSE INVOLVING CHILDREN              CHILD PORNOGRAPHY   \n",
      "1  2017                   NARCOTICS  MANUFACTURE / DELIVER - CRACK   \n",
      "2  0281         CRIM SEXUAL ASSAULT                 NON-AGGRAVATED   \n",
      "3  1320             CRIMINAL DAMAGE                     TO VEHICLE   \n",
      "4  0810                       THEFT                      OVER $500   \n",
      "\n",
      "                     Location Description  Arrest  Domestic  ...  Ward  \\\n",
      "0                               RESIDENCE    True     False  ...  25.0   \n",
      "1                                SIDEWALK    True     False  ...  28.0   \n",
      "2                             HOTEL/MOTEL   False     False  ...  42.0   \n",
      "3  PARKING LOT / GARAGE (NON RESIDENTIAL)   False     False  ...  42.0   \n",
      "4  PARKING LOT / GARAGE (NON RESIDENTIAL)   False     False  ...   4.0   \n",
      "\n",
      "   Community Area  FBI Code  X Coordinate Y Coordinate  Year  \\\n",
      "0            30.0        17           NaN          NaN  2022   \n",
      "1            26.0        18           NaN          NaN  2023   \n",
      "2            32.0        02           NaN          NaN  2017   \n",
      "3            32.0        14     1174694.0    1901831.0  2023   \n",
      "4            32.0        06     1176857.0    1896680.0  2023   \n",
      "\n",
      "               Updated On   Latitude  Longitude                       Location  \n",
      "0  04/18/2024 03:40:59 PM        NaN        NaN                            NaN  \n",
      "1  01/20/2024 03:41:12 PM        NaN        NaN                            NaN  \n",
      "2  02/11/2018 03:57:41 PM        NaN        NaN                            NaN  \n",
      "3  11/04/2023 03:40:18 PM  41.886018 -87.633938  (41.886018055, -87.633937881)  \n",
      "4  11/04/2023 03:40:18 PM  41.871835 -87.626151   (41.871834768, -87.62615082)  \n",
      "\n",
      "[5 rows x 22 columns]\n"
     ]
    }
   ],
   "source": [
    "print(\"=== shape ===\")\n",
    "print(df.shape)\n",
    "\n",
    "print(\"\\n=== columns ===\")\n",
    "print(df.columns.tolist())\n",
    "\n",
    "print(\"\\n=== info ===\")\n",
    "df.info()\n",
    "\n",
    "print(\"\\n=== head ===\")\n",
    "print(df.head())"
   ]
  },
  {
   "cell_type": "markdown",
   "id": "df5a2aee",
   "metadata": {},
   "source": [
    "## Null"
   ]
  },
  {
   "cell_type": "code",
   "execution_count": null,
   "id": "0d846ea3",
   "metadata": {},
   "outputs": [
    {
     "data": {
      "text/plain": [
       "Ward                    614824\n",
       "Community Area          613451\n",
       "Location                 92095\n",
       "Longitude                92095\n",
       "Latitude                 92095\n",
       "Y Coordinate             92095\n",
       "X Coordinate             92095\n",
       "Location Description     14252\n",
       "District                    47\n",
       "Domestic                     0\n",
       "Beat                         0\n",
       "Case Number                  0\n",
       "Arrest                       0\n",
       "Description                  0\n",
       "FBI Code                     0\n",
       "Primary Type                 0\n",
       "IUCR                         0\n",
       "Year                         0\n",
       "Updated On                   0\n",
       "Block                        0\n",
       "Date                         0\n",
       "ID                           0\n",
       "dtype: int64"
      ]
     },
     "execution_count": 11,
     "metadata": {},
     "output_type": "execute_result"
    }
   ],
   "source": [
    "df.isnull().sum().sort_values(ascending=False)"
   ]
  },
  {
   "cell_type": "markdown",
   "id": "178028f2",
   "metadata": {},
   "source": [
    "### Primary Type"
   ]
  },
  {
   "cell_type": "code",
   "execution_count": null,
   "id": "51e25cd5",
   "metadata": {},
   "outputs": [
    {
     "data": {
      "text/plain": [
       "Primary Type\n",
       "THEFT                                1760584\n",
       "BATTERY                              1512976\n",
       "CRIMINAL DAMAGE                       944601\n",
       "NARCOTICS                             760440\n",
       "ASSAULT                               553173\n",
       "OTHER OFFENSE                         517316\n",
       "BURGLARY                              440336\n",
       "MOTOR VEHICLE THEFT                   422169\n",
       "DECEPTIVE PRACTICE                    380202\n",
       "ROBBERY                               311552\n",
       "CRIMINAL TRESPASS                     224092\n",
       "WEAPONS VIOLATION                     122067\n",
       "PROSTITUTION                           70310\n",
       "OFFENSE INVOLVING CHILDREN             59565\n",
       "PUBLIC PEACE VIOLATION                 54225\n",
       "SEX OFFENSE                            33500\n",
       "CRIM SEXUAL ASSAULT                    27330\n",
       "INTERFERENCE WITH PUBLIC OFFICER       19774\n",
       "LIQUOR LAW VIOLATION                   15289\n",
       "GAMBLING                               14653\n",
       "ARSON                                  14233\n",
       "HOMICIDE                               13740\n",
       "CRIMINAL SEXUAL ASSAULT                10541\n",
       "KIDNAPPING                              7453\n",
       "STALKING                                5860\n",
       "INTIMIDATION                            5031\n",
       "CONCEALED CARRY LICENSE VIOLATION       1525\n",
       "OBSCENITY                                925\n",
       "PUBLIC INDECENCY                         214\n",
       "NON-CRIMINAL                             189\n",
       "OTHER NARCOTIC VIOLATION                 157\n",
       "HUMAN TRAFFICKING                        133\n",
       "NON - CRIMINAL                            38\n",
       "RITUALISM                                 24\n",
       "NON-CRIMINAL (SUBJECT SPECIFIED)           9\n",
       "DOMESTIC VIOLENCE                          1\n",
       "Name: count, dtype: int64"
      ]
     },
     "execution_count": 12,
     "metadata": {},
     "output_type": "execute_result"
    }
   ],
   "source": [
    "df['Primary Type'].value_counts()"
   ]
  },
  {
   "cell_type": "markdown",
   "id": "25075d95",
   "metadata": {},
   "source": [
    "### Year"
   ]
  },
  {
   "cell_type": "code",
   "execution_count": 14,
   "id": "256fc413",
   "metadata": {},
   "outputs": [
    {
     "data": {
      "text/plain": [
       "Year\n",
       "2001    485935\n",
       "2002    486828\n",
       "2003    475993\n",
       "2004    469434\n",
       "2005    453778\n",
       "2006    448195\n",
       "2007    437102\n",
       "2008    427207\n",
       "2009    392852\n",
       "2010    370546\n",
       "2011    352031\n",
       "2012    336363\n",
       "2013    307599\n",
       "2014    275880\n",
       "2015    264876\n",
       "2016    269958\n",
       "2017    269265\n",
       "2018    269103\n",
       "2019    261613\n",
       "2020    212582\n",
       "2021    209488\n",
       "2022    239785\n",
       "2023    262941\n",
       "2024    258062\n",
       "2025     66811\n",
       "Name: count, dtype: int64"
      ]
     },
     "execution_count": 14,
     "metadata": {},
     "output_type": "execute_result"
    }
   ],
   "source": [
    "df['Year'].value_counts().sort_index()"
   ]
  }
 ],
 "metadata": {
  "kernelspec": {
   "display_name": ".venv",
   "language": "python",
   "name": "python3"
  },
  "language_info": {
   "codemirror_mode": {
    "name": "ipython",
    "version": 3
   },
   "file_extension": ".py",
   "mimetype": "text/x-python",
   "name": "python",
   "nbconvert_exporter": "python",
   "pygments_lexer": "ipython3",
   "version": "3.10.17"
  }
 },
 "nbformat": 4,
 "nbformat_minor": 5
}
